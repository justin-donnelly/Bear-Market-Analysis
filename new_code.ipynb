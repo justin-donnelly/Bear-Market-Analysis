{
 "cells": [
  {
   "cell_type": "code",
   "execution_count": 1,
   "metadata": {},
   "outputs": [],
   "source": [
    "import pandas as pd \n",
    "from pathlib import Path\n",
    "import alpaca_trade_api as tradeapi\n",
    "import os \n",
    "from dotenv import load_dotenv\n",
    "load_dotenv()\n",
    "from alpaca.data.historical import CryptoHistoricalDataClient\n",
    "from alpaca_trade_api.rest import REST, TimeFrame\n",
    "import matplotlib.pyplot as plt\n",
    "import seaborn as sns\n",
    "from bear_class import BearMarket, YieldProcessor\n",
    "#keys:\n",
    "alpaca_api_key = os.getenv(\"ALPACA_API_KEY\")\n",
    "alpaca_secret_key = os.getenv(\"ALPACA_SECRET_KEY\")"
   ]
  },
  {
   "cell_type": "code",
   "execution_count": 2,
   "metadata": {},
   "outputs": [],
   "source": [
    "sp500_df = pd.read_csv(Path('../Bear-Market-Analysis/Resources/SPX 500 1972 --_ Present - Sheet1.csv'),\n",
    " infer_datetime_format= True, parse_dates=True)\n",
    "sp500_df['Date'] = pd.to_datetime(sp500_df['Date']).dt.date\n",
    "sp500_df = sp500_df.set_index('Date')\n",
    "sp500_df = sp500_df.dropna()\n",
    "\n",
    "#Now importing our 10yr yield data (ST Louis Fed):\n",
    "ten_yr_yield_df = pd.read_csv(Path('../Bear-Market-Analysis//Resources/DGS10 (1).csv'), infer_datetime_format=True, index_col='DATE')\n",
    "ten_yr_yield_df = ten_yr_yield_df.rename(columns={'DGS10':'yield'})\n",
    "ten_yr_yield_df = ten_yr_yield_df.dropna()\n",
    "ten_yr_yield_df.index.names = ['Date']\n",
    "\n",
    "#2yr yield\n",
    "two_yr_yield_df = pd.read_csv(Path('../Bear-Market-Analysis//Resources/DGS2 (1).csv'), infer_datetime_format=True, index_col = 'DATE')\n",
    "two_yr_yield_df = two_yr_yield_df.rename(columns={'DGS2':'yield'})\n",
    "two_yr_yield_df.dropna()\n",
    "two_yr_yield_df.index.names = ['Date']\n",
    "\n",
    "#because some responses have '.' in it for the yields, we must remove them to perform .pctchg():\n",
    "ten_yr_yield_df = ten_yr_yield_df[ten_yr_yield_df['yield'] != '.']\n",
    "two_yr_yield_df = two_yr_yield_df[two_yr_yield_df['yield'] != '.']\n",
    "#change value to float \n",
    "two_yr_yield_df=two_yr_yield_df.apply(pd.to_numeric, errors='coerce')\n",
    "ten_yr_yield_df=ten_yr_yield_df.apply(pd.to_numeric, errors='coerce')"
   ]
  },
  {
   "cell_type": "code",
   "execution_count": 39,
   "metadata": {},
   "outputs": [],
   "source": [
    "# Assuming sp500_df is defined elsewhere\n",
    "processor = BearMarket(sp500_df)\n",
    "processor.process_periods(['73_74', '80_82', '2000', '2008', '2020', '2022'])\n",
    "\n",
    "bear_73_74, returns_73_74 = processor.get_data('73_74')\n",
    "bear_80_82, returns_80_82 = processor.get_data('80_82')\n",
    "bear_2000, returns_2000 = processor.get_data('2000')\n",
    "bear_2008, returns_2008 = processor.get_data('2008')\n",
    "bear_2020, returns_2020 = processor.get_data('2020')\n",
    "bear_2022, returns_2022 = processor.get_data('2022')\n",
    "\n"
   ]
  },
  {
   "cell_type": "code",
   "execution_count": 40,
   "metadata": {},
   "outputs": [],
   "source": [
    "# Assuming ten_yr_yield_df is defined elsewhere\n",
    "processor = YieldProcessor(ten_yr_yield_df)\n",
    "processor.process_periods(['73_74', '80_82', '2000', '2008', '2020', '2022'])\n",
    "\n",
    "yield_73_74, yreturns_73_74 = processor.get_data('73_74')\n",
    "yield_80_82, yreturns_80_82 = processor.get_data('80_82')\n",
    "yield_2000, yreturns_2000 = processor.get_data('2000')\n",
    "yield_2008, yreturns_2008 = processor.get_data('2008')\n",
    "yield_2020, yreturns_2020 = processor.get_data('2020')\n",
    "yield_2022, yreturns_2022 = processor.get_data('2022')\n"
   ]
  },
  {
   "cell_type": "code",
   "execution_count": 51,
   "metadata": {},
   "outputs": [
    {
     "ename": "AttributeError",
     "evalue": "'numpy.ndarray' object has no attribute 'corr'",
     "output_type": "error",
     "traceback": [
      "\u001b[1;31m---------------------------------------------------------------------------\u001b[0m",
      "\u001b[1;31mAttributeError\u001b[0m                            Traceback (most recent call last)",
      "\u001b[1;32m~\\AppData\\Local\\Temp\\ipykernel_25272\\780599107.py\u001b[0m in \u001b[0;36m<module>\u001b[1;34m\u001b[0m\n\u001b[0;32m     10\u001b[0m \u001b[1;31m# Calculate correlations\u001b[0m\u001b[1;33m\u001b[0m\u001b[1;33m\u001b[0m\u001b[1;33m\u001b[0m\u001b[0m\n\u001b[0;32m     11\u001b[0m \u001b[1;32mfor\u001b[0m \u001b[0mlabel\u001b[0m\u001b[1;33m,\u001b[0m \u001b[0mbear_ret\u001b[0m\u001b[1;33m,\u001b[0m \u001b[0myield_ret\u001b[0m \u001b[1;32min\u001b[0m \u001b[0mzip\u001b[0m\u001b[1;33m(\u001b[0m\u001b[0mlabels\u001b[0m\u001b[1;33m,\u001b[0m \u001b[0mbear_returns_list\u001b[0m\u001b[1;33m,\u001b[0m \u001b[0myield_returns_list\u001b[0m\u001b[1;33m)\u001b[0m\u001b[1;33m:\u001b[0m\u001b[1;33m\u001b[0m\u001b[1;33m\u001b[0m\u001b[0m\n\u001b[1;32m---> 12\u001b[1;33m     \u001b[0mcorrelation\u001b[0m \u001b[1;33m=\u001b[0m \u001b[0mbear_ret\u001b[0m\u001b[1;33m.\u001b[0m\u001b[0mvalues\u001b[0m\u001b[1;33m.\u001b[0m\u001b[0mcorr\u001b[0m\u001b[1;33m(\u001b[0m\u001b[0myield_ret\u001b[0m\u001b[1;33m.\u001b[0m\u001b[0mvalues\u001b[0m\u001b[1;33m)\u001b[0m\u001b[1;33m\u001b[0m\u001b[1;33m\u001b[0m\u001b[0m\n\u001b[0m\u001b[0;32m     13\u001b[0m     \u001b[0mcorrelation_dict\u001b[0m\u001b[1;33m[\u001b[0m\u001b[0mlabel\u001b[0m\u001b[1;33m]\u001b[0m \u001b[1;33m=\u001b[0m \u001b[0mcorrelation\u001b[0m\u001b[1;33m\u001b[0m\u001b[1;33m\u001b[0m\u001b[0m\n\u001b[0;32m     14\u001b[0m \u001b[1;33m\u001b[0m\u001b[0m\n",
      "\u001b[1;31mAttributeError\u001b[0m: 'numpy.ndarray' object has no attribute 'corr'"
     ]
    }
   ],
   "source": [
    "# List of labels and dataframes\n",
    "labels = ['73_74', '80_82', '2000', '2008', '2020', '2022']\n",
    "bear_returns_list = [returns_73_74, returns_80_82, returns_2000, returns_2008, returns_2020, returns_2022]\n",
    "yield_returns_list = [yreturns_73_74, yreturns_80_82, yreturns_2000, yreturns_2008, yreturns_2020, yreturns_2022]\n",
    "\n",
    "# Dictionary to store correlations\n",
    "correlation_dict = {}\n",
    "\n",
    "# Calculate correlations\n",
    "# Calculate correlations\n",
    "for label, bear_ret, yield_ret in zip(labels, bear_returns_list, yield_returns_list):\n",
    "    correlation = bear_ret.values.corr(yield_ret.values)\n",
    "    correlation_dict[label] = correlation\n",
    "\n",
    "# Convert dictionary to DataFrame\n",
    "correlation_df = pd.DataFrame(list(correlation_dict.items()), columns=['Year_Period', 'Correlation'])\n",
    "correlation_df.set_index('Year_Period', inplace=True)\n",
    "print(correlation_df)\n"
   ]
  },
  {
   "cell_type": "code",
   "execution_count": null,
   "metadata": {},
   "outputs": [],
   "source": []
  }
 ],
 "metadata": {
  "kernelspec": {
   "display_name": "dev",
   "language": "python",
   "name": "python3"
  },
  "language_info": {
   "codemirror_mode": {
    "name": "ipython",
    "version": 3
   },
   "file_extension": ".py",
   "mimetype": "text/x-python",
   "name": "python",
   "nbconvert_exporter": "python",
   "pygments_lexer": "ipython3",
   "version": "3.7.13"
  },
  "orig_nbformat": 4
 },
 "nbformat": 4,
 "nbformat_minor": 2
}
